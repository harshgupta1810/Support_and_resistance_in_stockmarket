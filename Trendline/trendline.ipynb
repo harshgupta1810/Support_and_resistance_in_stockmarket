{
 "cells": [
  {
   "cell_type": "markdown",
   "metadata": {
    "collapsed": true,
    "pycharm": {
     "name": "#%% md\n"
    }
   },
   "source": [
    "Support and Resistance: Trendlines can act as support and resistance levels. A support line is drawn beneath a series of lows, indicating a price level where buying pressure typically emerges. A resistance line is drawn above a series of highs, indicating a price level where selling pressure typically emerges. Traders may buy when the price bounces off the support line and sell when it approaches the resistance line.\n",
    "\n",
    "Breakout Trading: Breakout trading involves identifying trendlines that mark consolidation patterns, such as triangles or rectangles. Traders wait for the price to break above the upper trendline (resistance) or below the lower trendline (support) to enter a trade. The breakout is considered a signal that the price may continue in the direction of the breakout, and traders may take positions accordingly.\n",
    "\n",
    "Trend Reversal: Trendlines can also be used to identify potential trend reversals. When an upward trendline is broken, it may indicate a shift from an uptrend to a downtrend, while a break of a downward trendline may signal a change from a downtrend to an uptrend. Traders may enter trades based on these trendline breakouts to capture potential reversals.\n",
    "\n",
    "Multiple Timeframe Analysis: Traders often use trendlines on multiple timeframes to gain a broader perspective. For example, a long-term trendline can provide an overall trend direction, while shorter-term trendlines can help identify entry and exit points within that trend. Combining trendlines from different timeframes can provide a more comprehensive analysis of the stock's price action.\n",
    "\n",
    "Moving Average Crossovers: Although not strictly a trendline strategy, moving averages can be used in conjunction with trendlines. Traders often look for crossovers between shorter-term and longer-term moving averages as potential buy or sell signals. For example, when a shorter-term moving average (e.g., 50-day) crosses above a longer-term moving average (e.g., 200-day), it may indicate the start of an uptrend, while the opposite crossover may indicate a downtrend."
   ]
  },
  {
   "cell_type": "code",
   "execution_count": 15,
   "outputs": [],
   "source": [
    "import pandas as pd\n",
    "import yfinance as yf\n",
    "from datetime import date\n",
    "import numpy as np\n",
    "import matplotlib.pyplot as plt"
   ],
   "metadata": {
    "collapsed": false,
    "pycharm": {
     "name": "#%%\n"
    }
   }
  },
  {
   "cell_type": "code",
   "execution_count": 16,
   "outputs": [
    {
     "data": {
      "text/plain": "              Open    High     Low   Close    Volume\nDate                                                \n2003-01-01   21.00   21.00   20.49   20.60  17053263\n2003-01-02   20.64   21.17   20.51   20.87  38374255\n2003-01-03   21.29   21.34   20.66   20.72  21238047\n2003-01-06   20.71   20.71   20.13   20.20  17650251\n2003-01-07   20.22   20.46   20.06   20.24  17585684\n...            ...     ...     ...     ...       ...\n2023-05-15  578.75  584.00  574.65  581.90  11410243\n2023-05-16  584.00  590.40  582.00  586.30  22178229\n2023-05-17  586.00  590.50  579.50  586.30  23739774\n2023-05-18  590.30  593.90  571.40  574.20  45656620\n2023-05-19  579.00  586.25  569.90  575.15  42293962\n\n[5057 rows x 5 columns]",
      "text/html": "<div>\n<style scoped>\n    .dataframe tbody tr th:only-of-type {\n        vertical-align: middle;\n    }\n\n    .dataframe tbody tr th {\n        vertical-align: top;\n    }\n\n    .dataframe thead th {\n        text-align: right;\n    }\n</style>\n<table border=\"1\" class=\"dataframe\">\n  <thead>\n    <tr style=\"text-align: right;\">\n      <th></th>\n      <th>Open</th>\n      <th>High</th>\n      <th>Low</th>\n      <th>Close</th>\n      <th>Volume</th>\n    </tr>\n    <tr>\n      <th>Date</th>\n      <th></th>\n      <th></th>\n      <th></th>\n      <th></th>\n      <th></th>\n    </tr>\n  </thead>\n  <tbody>\n    <tr>\n      <th>2003-01-01</th>\n      <td>21.00</td>\n      <td>21.00</td>\n      <td>20.49</td>\n      <td>20.60</td>\n      <td>17053263</td>\n    </tr>\n    <tr>\n      <th>2003-01-02</th>\n      <td>20.64</td>\n      <td>21.17</td>\n      <td>20.51</td>\n      <td>20.87</td>\n      <td>38374255</td>\n    </tr>\n    <tr>\n      <th>2003-01-03</th>\n      <td>21.29</td>\n      <td>21.34</td>\n      <td>20.66</td>\n      <td>20.72</td>\n      <td>21238047</td>\n    </tr>\n    <tr>\n      <th>2003-01-06</th>\n      <td>20.71</td>\n      <td>20.71</td>\n      <td>20.13</td>\n      <td>20.20</td>\n      <td>17650251</td>\n    </tr>\n    <tr>\n      <th>2003-01-07</th>\n      <td>20.22</td>\n      <td>20.46</td>\n      <td>20.06</td>\n      <td>20.24</td>\n      <td>17585684</td>\n    </tr>\n    <tr>\n      <th>...</th>\n      <td>...</td>\n      <td>...</td>\n      <td>...</td>\n      <td>...</td>\n      <td>...</td>\n    </tr>\n    <tr>\n      <th>2023-05-15</th>\n      <td>578.75</td>\n      <td>584.00</td>\n      <td>574.65</td>\n      <td>581.90</td>\n      <td>11410243</td>\n    </tr>\n    <tr>\n      <th>2023-05-16</th>\n      <td>584.00</td>\n      <td>590.40</td>\n      <td>582.00</td>\n      <td>586.30</td>\n      <td>22178229</td>\n    </tr>\n    <tr>\n      <th>2023-05-17</th>\n      <td>586.00</td>\n      <td>590.50</td>\n      <td>579.50</td>\n      <td>586.30</td>\n      <td>23739774</td>\n    </tr>\n    <tr>\n      <th>2023-05-18</th>\n      <td>590.30</td>\n      <td>593.90</td>\n      <td>571.40</td>\n      <td>574.20</td>\n      <td>45656620</td>\n    </tr>\n    <tr>\n      <th>2023-05-19</th>\n      <td>579.00</td>\n      <td>586.25</td>\n      <td>569.90</td>\n      <td>575.15</td>\n      <td>42293962</td>\n    </tr>\n  </tbody>\n</table>\n<p>5057 rows × 5 columns</p>\n</div>"
     },
     "execution_count": 16,
     "metadata": {},
     "output_type": "execute_result"
    }
   ],
   "source": [
    "stocksymbols = 'SBIN.NS'\n",
    "ticker = yf.Ticker(stocksymbols)\n",
    "end = date.today()\n",
    "start = \"2003-01-01\"\n",
    "df = ticker.history(interval=\"1d\",start=start,end=end)\n",
    "df.index = df.index.strftime('%d-%m-%y')\n",
    "df.index = pd.to_datetime(df.index, format='%d-%m-%y')\n",
    "df = df.loc[:,['Open','High','Low','Close','Volume']]\n",
    "df = df.round(2)\n",
    "df"
   ],
   "metadata": {
    "collapsed": false,
    "pycharm": {
     "name": "#%%\n"
    }
   }
  },
  {
   "cell_type": "markdown",
   "source": [
    "python function which parameter will be df dataframe which column are 'High','Low','Open','Close'\n",
    "and it has to  Multiple Timeframe Analysis: Traders often use trendlines on multiple timeframes to gain a broader perspective. For example, a long-term trendline can provide an overall trend direction, while shorter-term trendlines can help identify entry and exit points within that trend. Combining trendlines from different timeframes can provide a more comprehensive analysis of the stock's price action."
   ],
   "metadata": {
    "collapsed": false,
    "pycharm": {
     "name": "#%% md\n"
    }
   },
   "outputs": [],
   "execution_count": 2
  },
  {
   "cell_type": "code",
   "execution_count": 17,
   "outputs": [
    {
     "data": {
      "text/plain": "              Open    High     Low   Close    Volume  Upper_Trendline  \\\nDate                                                                    \n2003-01-01   21.00   21.00   20.49   20.60  17053263            21.00   \n2003-01-02   20.64   21.17   20.51   20.87  38374255            21.17   \n2003-01-03   21.29   21.34   20.66   20.72  21238047            21.34   \n2003-01-06   20.71   20.71   20.13   20.20  17650251            20.71   \n2003-01-07   20.22   20.46   20.06   20.24  17585684            20.46   \n...            ...     ...     ...     ...       ...              ...   \n2023-05-15  578.75  584.00  574.65  581.90  11410243           584.00   \n2023-05-16  584.00  590.40  582.00  586.30  22178229           590.40   \n2023-05-17  586.00  590.50  579.50  586.30  23739774           590.50   \n2023-05-18  590.30  593.90  571.40  574.20  45656620           593.90   \n2023-05-19  579.00  586.25  569.90  575.15  42293962           586.25   \n\n            Lower_Trendline  Breakout_Point Breakout_Direction  \nDate                                                            \n2003-01-01            20.49             NaN        No_Breakout  \n2003-01-02            20.51           20.60                 Up  \n2003-01-03            20.66           20.87               Down  \n2003-01-06            20.13           20.72               Down  \n2003-01-07            20.06           20.20                 Up  \n...                     ...             ...                ...  \n2023-05-15           574.65          578.15                 Up  \n2023-05-16           582.00          581.90                 Up  \n2023-05-17           579.50          586.30        No_Breakout  \n2023-05-18           571.40          586.30               Down  \n2023-05-19           569.90          574.20                 Up  \n\n[5057 rows x 9 columns]",
      "text/html": "<div>\n<style scoped>\n    .dataframe tbody tr th:only-of-type {\n        vertical-align: middle;\n    }\n\n    .dataframe tbody tr th {\n        vertical-align: top;\n    }\n\n    .dataframe thead th {\n        text-align: right;\n    }\n</style>\n<table border=\"1\" class=\"dataframe\">\n  <thead>\n    <tr style=\"text-align: right;\">\n      <th></th>\n      <th>Open</th>\n      <th>High</th>\n      <th>Low</th>\n      <th>Close</th>\n      <th>Volume</th>\n      <th>Upper_Trendline</th>\n      <th>Lower_Trendline</th>\n      <th>Breakout_Point</th>\n      <th>Breakout_Direction</th>\n    </tr>\n    <tr>\n      <th>Date</th>\n      <th></th>\n      <th></th>\n      <th></th>\n      <th></th>\n      <th></th>\n      <th></th>\n      <th></th>\n      <th></th>\n      <th></th>\n    </tr>\n  </thead>\n  <tbody>\n    <tr>\n      <th>2003-01-01</th>\n      <td>21.00</td>\n      <td>21.00</td>\n      <td>20.49</td>\n      <td>20.60</td>\n      <td>17053263</td>\n      <td>21.00</td>\n      <td>20.49</td>\n      <td>NaN</td>\n      <td>No_Breakout</td>\n    </tr>\n    <tr>\n      <th>2003-01-02</th>\n      <td>20.64</td>\n      <td>21.17</td>\n      <td>20.51</td>\n      <td>20.87</td>\n      <td>38374255</td>\n      <td>21.17</td>\n      <td>20.51</td>\n      <td>20.60</td>\n      <td>Up</td>\n    </tr>\n    <tr>\n      <th>2003-01-03</th>\n      <td>21.29</td>\n      <td>21.34</td>\n      <td>20.66</td>\n      <td>20.72</td>\n      <td>21238047</td>\n      <td>21.34</td>\n      <td>20.66</td>\n      <td>20.87</td>\n      <td>Down</td>\n    </tr>\n    <tr>\n      <th>2003-01-06</th>\n      <td>20.71</td>\n      <td>20.71</td>\n      <td>20.13</td>\n      <td>20.20</td>\n      <td>17650251</td>\n      <td>20.71</td>\n      <td>20.13</td>\n      <td>20.72</td>\n      <td>Down</td>\n    </tr>\n    <tr>\n      <th>2003-01-07</th>\n      <td>20.22</td>\n      <td>20.46</td>\n      <td>20.06</td>\n      <td>20.24</td>\n      <td>17585684</td>\n      <td>20.46</td>\n      <td>20.06</td>\n      <td>20.20</td>\n      <td>Up</td>\n    </tr>\n    <tr>\n      <th>...</th>\n      <td>...</td>\n      <td>...</td>\n      <td>...</td>\n      <td>...</td>\n      <td>...</td>\n      <td>...</td>\n      <td>...</td>\n      <td>...</td>\n      <td>...</td>\n    </tr>\n    <tr>\n      <th>2023-05-15</th>\n      <td>578.75</td>\n      <td>584.00</td>\n      <td>574.65</td>\n      <td>581.90</td>\n      <td>11410243</td>\n      <td>584.00</td>\n      <td>574.65</td>\n      <td>578.15</td>\n      <td>Up</td>\n    </tr>\n    <tr>\n      <th>2023-05-16</th>\n      <td>584.00</td>\n      <td>590.40</td>\n      <td>582.00</td>\n      <td>586.30</td>\n      <td>22178229</td>\n      <td>590.40</td>\n      <td>582.00</td>\n      <td>581.90</td>\n      <td>Up</td>\n    </tr>\n    <tr>\n      <th>2023-05-17</th>\n      <td>586.00</td>\n      <td>590.50</td>\n      <td>579.50</td>\n      <td>586.30</td>\n      <td>23739774</td>\n      <td>590.50</td>\n      <td>579.50</td>\n      <td>586.30</td>\n      <td>No_Breakout</td>\n    </tr>\n    <tr>\n      <th>2023-05-18</th>\n      <td>590.30</td>\n      <td>593.90</td>\n      <td>571.40</td>\n      <td>574.20</td>\n      <td>45656620</td>\n      <td>593.90</td>\n      <td>571.40</td>\n      <td>586.30</td>\n      <td>Down</td>\n    </tr>\n    <tr>\n      <th>2023-05-19</th>\n      <td>579.00</td>\n      <td>586.25</td>\n      <td>569.90</td>\n      <td>575.15</td>\n      <td>42293962</td>\n      <td>586.25</td>\n      <td>569.90</td>\n      <td>574.20</td>\n      <td>Up</td>\n    </tr>\n  </tbody>\n</table>\n<p>5057 rows × 9 columns</p>\n</div>"
     },
     "execution_count": 17,
     "metadata": {},
     "output_type": "execute_result"
    }
   ],
   "source": [
    "def breakout_trading(df):\n",
    "    # Calculate the upper and lower trendlines\n",
    "    df['Upper_Trendline'] = df[['High', 'Low']].max(axis=1)\n",
    "    df['Lower_Trendline'] = df[['High', 'Low']].min(axis=1)\n",
    "\n",
    "    # Find the breakout points\n",
    "    df['Breakout_Point'] = df['Close'].shift(1)\n",
    "    df.loc[df['Close'] > df['Upper_Trendline'], 'Breakout_Point'] = df['Upper_Trendline']\n",
    "    df.loc[df['Close'] < df['Lower_Trendline'], 'Breakout_Point'] = df['Lower_Trendline']\n",
    "\n",
    "    # Identify the breakout direction\n",
    "    df['Breakout_Direction'] = df['Close'] - df['Breakout_Point']\n",
    "    df['Breakout_Direction'] = df['Breakout_Direction'].apply(lambda x: 'Up' if x > 0 else 'Down' if x < 0 else 'No_Breakout')\n",
    "\n",
    "    return df\n",
    "\n",
    "df1 = breakout_trading(df)\n",
    "df1"
   ],
   "metadata": {
    "collapsed": false,
    "pycharm": {
     "name": "#%%\n"
    }
   }
  },
  {
   "cell_type": "code",
   "execution_count": 18,
   "outputs": [
    {
     "data": {
      "text/plain": "              Open    High     Low   Close    Volume  Upper_Trendline  \\\nDate                                                                    \n2003-01-01   21.00   21.00   20.49   20.60  17053263            21.00   \n2003-01-02   20.64   21.17   20.51   20.87  38374255            21.17   \n2003-01-03   21.29   21.34   20.66   20.72  21238047            21.34   \n2003-01-06   20.71   20.71   20.13   20.20  17650251            20.71   \n2003-01-07   20.22   20.46   20.06   20.24  17585684            20.46   \n...            ...     ...     ...     ...       ...              ...   \n2023-05-15  578.75  584.00  574.65  581.90  11410243           584.00   \n2023-05-16  584.00  590.40  582.00  586.30  22178229           590.40   \n2023-05-17  586.00  590.50  579.50  586.30  23739774           590.50   \n2023-05-18  590.30  593.90  571.40  574.20  45656620           593.90   \n2023-05-19  579.00  586.25  569.90  575.15  42293962           586.25   \n\n            Lower_Trendline  Breakout_Point Breakout_Direction  \\\nDate                                                             \n2003-01-01            20.49             NaN        No_Breakout   \n2003-01-02            20.51           20.60                 Up   \n2003-01-03            20.66           20.87               Down   \n2003-01-06            20.13           20.72               Down   \n2003-01-07            20.06           20.20                 Up   \n...                     ...             ...                ...   \n2023-05-15           574.65          578.15                 Up   \n2023-05-16           582.00          581.90                 Up   \n2023-05-17           579.50          586.30        No_Breakout   \n2023-05-18           571.40          586.30               Down   \n2023-05-19           569.90          574.20                 Up   \n\n                 trend_reversals  \nDate                              \n2003-01-01     No_trend_reversal  \n2003-01-02     No_trend_reversal  \n2003-01-03  Downtrend_to_Uptrend  \n2003-01-06     No_trend_reversal  \n2003-01-07     No_trend_reversal  \n...                          ...  \n2023-05-15     No_trend_reversal  \n2023-05-16  Downtrend_to_Uptrend  \n2023-05-17     No_trend_reversal  \n2023-05-18  Downtrend_to_Uptrend  \n2023-05-19     No_trend_reversal  \n\n[5057 rows x 10 columns]",
      "text/html": "<div>\n<style scoped>\n    .dataframe tbody tr th:only-of-type {\n        vertical-align: middle;\n    }\n\n    .dataframe tbody tr th {\n        vertical-align: top;\n    }\n\n    .dataframe thead th {\n        text-align: right;\n    }\n</style>\n<table border=\"1\" class=\"dataframe\">\n  <thead>\n    <tr style=\"text-align: right;\">\n      <th></th>\n      <th>Open</th>\n      <th>High</th>\n      <th>Low</th>\n      <th>Close</th>\n      <th>Volume</th>\n      <th>Upper_Trendline</th>\n      <th>Lower_Trendline</th>\n      <th>Breakout_Point</th>\n      <th>Breakout_Direction</th>\n      <th>trend_reversals</th>\n    </tr>\n    <tr>\n      <th>Date</th>\n      <th></th>\n      <th></th>\n      <th></th>\n      <th></th>\n      <th></th>\n      <th></th>\n      <th></th>\n      <th></th>\n      <th></th>\n      <th></th>\n    </tr>\n  </thead>\n  <tbody>\n    <tr>\n      <th>2003-01-01</th>\n      <td>21.00</td>\n      <td>21.00</td>\n      <td>20.49</td>\n      <td>20.60</td>\n      <td>17053263</td>\n      <td>21.00</td>\n      <td>20.49</td>\n      <td>NaN</td>\n      <td>No_Breakout</td>\n      <td>No_trend_reversal</td>\n    </tr>\n    <tr>\n      <th>2003-01-02</th>\n      <td>20.64</td>\n      <td>21.17</td>\n      <td>20.51</td>\n      <td>20.87</td>\n      <td>38374255</td>\n      <td>21.17</td>\n      <td>20.51</td>\n      <td>20.60</td>\n      <td>Up</td>\n      <td>No_trend_reversal</td>\n    </tr>\n    <tr>\n      <th>2003-01-03</th>\n      <td>21.29</td>\n      <td>21.34</td>\n      <td>20.66</td>\n      <td>20.72</td>\n      <td>21238047</td>\n      <td>21.34</td>\n      <td>20.66</td>\n      <td>20.87</td>\n      <td>Down</td>\n      <td>Downtrend_to_Uptrend</td>\n    </tr>\n    <tr>\n      <th>2003-01-06</th>\n      <td>20.71</td>\n      <td>20.71</td>\n      <td>20.13</td>\n      <td>20.20</td>\n      <td>17650251</td>\n      <td>20.71</td>\n      <td>20.13</td>\n      <td>20.72</td>\n      <td>Down</td>\n      <td>No_trend_reversal</td>\n    </tr>\n    <tr>\n      <th>2003-01-07</th>\n      <td>20.22</td>\n      <td>20.46</td>\n      <td>20.06</td>\n      <td>20.24</td>\n      <td>17585684</td>\n      <td>20.46</td>\n      <td>20.06</td>\n      <td>20.20</td>\n      <td>Up</td>\n      <td>No_trend_reversal</td>\n    </tr>\n    <tr>\n      <th>...</th>\n      <td>...</td>\n      <td>...</td>\n      <td>...</td>\n      <td>...</td>\n      <td>...</td>\n      <td>...</td>\n      <td>...</td>\n      <td>...</td>\n      <td>...</td>\n      <td>...</td>\n    </tr>\n    <tr>\n      <th>2023-05-15</th>\n      <td>578.75</td>\n      <td>584.00</td>\n      <td>574.65</td>\n      <td>581.90</td>\n      <td>11410243</td>\n      <td>584.00</td>\n      <td>574.65</td>\n      <td>578.15</td>\n      <td>Up</td>\n      <td>No_trend_reversal</td>\n    </tr>\n    <tr>\n      <th>2023-05-16</th>\n      <td>584.00</td>\n      <td>590.40</td>\n      <td>582.00</td>\n      <td>586.30</td>\n      <td>22178229</td>\n      <td>590.40</td>\n      <td>582.00</td>\n      <td>581.90</td>\n      <td>Up</td>\n      <td>Downtrend_to_Uptrend</td>\n    </tr>\n    <tr>\n      <th>2023-05-17</th>\n      <td>586.00</td>\n      <td>590.50</td>\n      <td>579.50</td>\n      <td>586.30</td>\n      <td>23739774</td>\n      <td>590.50</td>\n      <td>579.50</td>\n      <td>586.30</td>\n      <td>No_Breakout</td>\n      <td>No_trend_reversal</td>\n    </tr>\n    <tr>\n      <th>2023-05-18</th>\n      <td>590.30</td>\n      <td>593.90</td>\n      <td>571.40</td>\n      <td>574.20</td>\n      <td>45656620</td>\n      <td>593.90</td>\n      <td>571.40</td>\n      <td>586.30</td>\n      <td>Down</td>\n      <td>Downtrend_to_Uptrend</td>\n    </tr>\n    <tr>\n      <th>2023-05-19</th>\n      <td>579.00</td>\n      <td>586.25</td>\n      <td>569.90</td>\n      <td>575.15</td>\n      <td>42293962</td>\n      <td>586.25</td>\n      <td>569.90</td>\n      <td>574.20</td>\n      <td>Up</td>\n      <td>No_trend_reversal</td>\n    </tr>\n  </tbody>\n</table>\n<p>5057 rows × 10 columns</p>\n</div>"
     },
     "execution_count": 18,
     "metadata": {},
     "output_type": "execute_result"
    }
   ],
   "source": [
    "def identify_trend_reversals(df):\n",
    "    # Calculate the trendlines\n",
    "    highs = df['High'].to_numpy()\n",
    "    lows = df['Low'].to_numpy()\n",
    "    opens = df['Open'].to_numpy()\n",
    "    closes = df['Close'].to_numpy()\n",
    "\n",
    "    # Calculate the trendlines for both upward and downward trends\n",
    "    upward_trendline = (lows[:-1] + closes[:-1]) / 2\n",
    "    downward_trendline = (highs[:-1] + closes[:-1]) / 2\n",
    "\n",
    "    # Check for potential trend reversals\n",
    "    df['trend_reversals'] = 'No_trend_reversal'\n",
    "    for i in range(1, len(df)):\n",
    "        if opens[i] < upward_trendline[i-1] and closes[i] > upward_trendline[i]:\n",
    "            df.loc[df.index[i], 'trend_reversals'] = 'Uptrend_to_Downtrend'\n",
    "        elif opens[i] > downward_trendline[i-1] and closes[i] < downward_trendline[i]:\n",
    "            df.loc[df.index[i], 'trend_reversals'] = 'Downtrend_to_Uptrend'\n",
    "\n",
    "    return df\n",
    "\n",
    "df2 = identify_trend_reversals(df1)\n",
    "df2"
   ],
   "metadata": {
    "collapsed": false,
    "pycharm": {
     "name": "#%%\n"
    }
   }
  },
  {
   "cell_type": "code",
   "execution_count": 19,
   "outputs": [
    {
     "data": {
      "text/plain": "              Open    High     Low   Close    Volume  Upper_Trendline  \\\nDate                                                                    \n2003-01-01   21.00   21.00   20.49   20.60  17053263            21.00   \n2003-01-02   20.64   21.17   20.51   20.87  38374255            21.17   \n2003-01-03   21.29   21.34   20.66   20.72  21238047            21.34   \n2003-01-06   20.71   20.71   20.13   20.20  17650251            20.71   \n2003-01-07   20.22   20.46   20.06   20.24  17585684            20.46   \n...            ...     ...     ...     ...       ...              ...   \n2023-05-15  578.75  584.00  574.65  581.90  11410243           584.00   \n2023-05-16  584.00  590.40  582.00  586.30  22178229           590.40   \n2023-05-17  586.00  590.50  579.50  586.30  23739774           590.50   \n2023-05-18  590.30  593.90  571.40  574.20  45656620           593.90   \n2023-05-19  579.00  586.25  569.90  575.15  42293962           586.25   \n\n            Lower_Trendline  Breakout_Point Breakout_Direction  \\\nDate                                                             \n2003-01-01            20.49             NaN        No_Breakout   \n2003-01-02            20.51           20.60                 Up   \n2003-01-03            20.66           20.87               Down   \n2003-01-06            20.13           20.72               Down   \n2003-01-07            20.06           20.20                 Up   \n...                     ...             ...                ...   \n2023-05-15           574.65          578.15                 Up   \n2023-05-16           582.00          581.90                 Up   \n2023-05-17           579.50          586.30        No_Breakout   \n2023-05-18           571.40          586.30               Down   \n2023-05-19           569.90          574.20                 Up   \n\n                 trend_reversals  Short_Trendline  Medium_Trendline  \\\nDate                                                                  \n2003-01-01     No_trend_reversal              NaN               NaN   \n2003-01-02     No_trend_reversal              NaN               NaN   \n2003-01-03  Downtrend_to_Uptrend              NaN               NaN   \n2003-01-06     No_trend_reversal              NaN               NaN   \n2003-01-07     No_trend_reversal           20.526               NaN   \n...                          ...              ...               ...   \n2023-05-15     No_trend_reversal          575.840          565.4500   \n2023-05-16  Downtrend_to_Uptrend          578.400          567.5650   \n2023-05-17     No_trend_reversal          581.220          569.5875   \n2023-05-18  Downtrend_to_Uptrend          581.370          571.2825   \n2023-05-19     No_trend_reversal          580.770          572.8000   \n\n            Long_Trendline  Bullish_Signal  Bearish_Signal  \nDate                                                        \n2003-01-01             NaN           False           False  \n2003-01-02             NaN           False           False  \n2003-01-03             NaN           False           False  \n2003-01-06             NaN           False           False  \n2003-01-07             NaN           False           False  \n...                    ...             ...             ...  \n2023-05-15         543.746           False           False  \n2023-05-16         544.918           False           False  \n2023-05-17         546.188           False           False  \n2023-05-18         546.938           False           False  \n2023-05-19         547.766           False           False  \n\n[5057 rows x 15 columns]",
      "text/html": "<div>\n<style scoped>\n    .dataframe tbody tr th:only-of-type {\n        vertical-align: middle;\n    }\n\n    .dataframe tbody tr th {\n        vertical-align: top;\n    }\n\n    .dataframe thead th {\n        text-align: right;\n    }\n</style>\n<table border=\"1\" class=\"dataframe\">\n  <thead>\n    <tr style=\"text-align: right;\">\n      <th></th>\n      <th>Open</th>\n      <th>High</th>\n      <th>Low</th>\n      <th>Close</th>\n      <th>Volume</th>\n      <th>Upper_Trendline</th>\n      <th>Lower_Trendline</th>\n      <th>Breakout_Point</th>\n      <th>Breakout_Direction</th>\n      <th>trend_reversals</th>\n      <th>Short_Trendline</th>\n      <th>Medium_Trendline</th>\n      <th>Long_Trendline</th>\n      <th>Bullish_Signal</th>\n      <th>Bearish_Signal</th>\n    </tr>\n    <tr>\n      <th>Date</th>\n      <th></th>\n      <th></th>\n      <th></th>\n      <th></th>\n      <th></th>\n      <th></th>\n      <th></th>\n      <th></th>\n      <th></th>\n      <th></th>\n      <th></th>\n      <th></th>\n      <th></th>\n      <th></th>\n      <th></th>\n    </tr>\n  </thead>\n  <tbody>\n    <tr>\n      <th>2003-01-01</th>\n      <td>21.00</td>\n      <td>21.00</td>\n      <td>20.49</td>\n      <td>20.60</td>\n      <td>17053263</td>\n      <td>21.00</td>\n      <td>20.49</td>\n      <td>NaN</td>\n      <td>No_Breakout</td>\n      <td>No_trend_reversal</td>\n      <td>NaN</td>\n      <td>NaN</td>\n      <td>NaN</td>\n      <td>False</td>\n      <td>False</td>\n    </tr>\n    <tr>\n      <th>2003-01-02</th>\n      <td>20.64</td>\n      <td>21.17</td>\n      <td>20.51</td>\n      <td>20.87</td>\n      <td>38374255</td>\n      <td>21.17</td>\n      <td>20.51</td>\n      <td>20.60</td>\n      <td>Up</td>\n      <td>No_trend_reversal</td>\n      <td>NaN</td>\n      <td>NaN</td>\n      <td>NaN</td>\n      <td>False</td>\n      <td>False</td>\n    </tr>\n    <tr>\n      <th>2003-01-03</th>\n      <td>21.29</td>\n      <td>21.34</td>\n      <td>20.66</td>\n      <td>20.72</td>\n      <td>21238047</td>\n      <td>21.34</td>\n      <td>20.66</td>\n      <td>20.87</td>\n      <td>Down</td>\n      <td>Downtrend_to_Uptrend</td>\n      <td>NaN</td>\n      <td>NaN</td>\n      <td>NaN</td>\n      <td>False</td>\n      <td>False</td>\n    </tr>\n    <tr>\n      <th>2003-01-06</th>\n      <td>20.71</td>\n      <td>20.71</td>\n      <td>20.13</td>\n      <td>20.20</td>\n      <td>17650251</td>\n      <td>20.71</td>\n      <td>20.13</td>\n      <td>20.72</td>\n      <td>Down</td>\n      <td>No_trend_reversal</td>\n      <td>NaN</td>\n      <td>NaN</td>\n      <td>NaN</td>\n      <td>False</td>\n      <td>False</td>\n    </tr>\n    <tr>\n      <th>2003-01-07</th>\n      <td>20.22</td>\n      <td>20.46</td>\n      <td>20.06</td>\n      <td>20.24</td>\n      <td>17585684</td>\n      <td>20.46</td>\n      <td>20.06</td>\n      <td>20.20</td>\n      <td>Up</td>\n      <td>No_trend_reversal</td>\n      <td>20.526</td>\n      <td>NaN</td>\n      <td>NaN</td>\n      <td>False</td>\n      <td>False</td>\n    </tr>\n    <tr>\n      <th>...</th>\n      <td>...</td>\n      <td>...</td>\n      <td>...</td>\n      <td>...</td>\n      <td>...</td>\n      <td>...</td>\n      <td>...</td>\n      <td>...</td>\n      <td>...</td>\n      <td>...</td>\n      <td>...</td>\n      <td>...</td>\n      <td>...</td>\n      <td>...</td>\n      <td>...</td>\n    </tr>\n    <tr>\n      <th>2023-05-15</th>\n      <td>578.75</td>\n      <td>584.00</td>\n      <td>574.65</td>\n      <td>581.90</td>\n      <td>11410243</td>\n      <td>584.00</td>\n      <td>574.65</td>\n      <td>578.15</td>\n      <td>Up</td>\n      <td>No_trend_reversal</td>\n      <td>575.840</td>\n      <td>565.4500</td>\n      <td>543.746</td>\n      <td>False</td>\n      <td>False</td>\n    </tr>\n    <tr>\n      <th>2023-05-16</th>\n      <td>584.00</td>\n      <td>590.40</td>\n      <td>582.00</td>\n      <td>586.30</td>\n      <td>22178229</td>\n      <td>590.40</td>\n      <td>582.00</td>\n      <td>581.90</td>\n      <td>Up</td>\n      <td>Downtrend_to_Uptrend</td>\n      <td>578.400</td>\n      <td>567.5650</td>\n      <td>544.918</td>\n      <td>False</td>\n      <td>False</td>\n    </tr>\n    <tr>\n      <th>2023-05-17</th>\n      <td>586.00</td>\n      <td>590.50</td>\n      <td>579.50</td>\n      <td>586.30</td>\n      <td>23739774</td>\n      <td>590.50</td>\n      <td>579.50</td>\n      <td>586.30</td>\n      <td>No_Breakout</td>\n      <td>No_trend_reversal</td>\n      <td>581.220</td>\n      <td>569.5875</td>\n      <td>546.188</td>\n      <td>False</td>\n      <td>False</td>\n    </tr>\n    <tr>\n      <th>2023-05-18</th>\n      <td>590.30</td>\n      <td>593.90</td>\n      <td>571.40</td>\n      <td>574.20</td>\n      <td>45656620</td>\n      <td>593.90</td>\n      <td>571.40</td>\n      <td>586.30</td>\n      <td>Down</td>\n      <td>Downtrend_to_Uptrend</td>\n      <td>581.370</td>\n      <td>571.2825</td>\n      <td>546.938</td>\n      <td>False</td>\n      <td>False</td>\n    </tr>\n    <tr>\n      <th>2023-05-19</th>\n      <td>579.00</td>\n      <td>586.25</td>\n      <td>569.90</td>\n      <td>575.15</td>\n      <td>42293962</td>\n      <td>586.25</td>\n      <td>569.90</td>\n      <td>574.20</td>\n      <td>Up</td>\n      <td>No_trend_reversal</td>\n      <td>580.770</td>\n      <td>572.8000</td>\n      <td>547.766</td>\n      <td>False</td>\n      <td>False</td>\n    </tr>\n  </tbody>\n</table>\n<p>5057 rows × 15 columns</p>\n</div>"
     },
     "execution_count": 19,
     "metadata": {},
     "output_type": "execute_result"
    }
   ],
   "source": [
    "def multiple_timeframe_analysis(df):\n",
    "    # Calculate short-term trendline\n",
    "    df['Short_Trendline'] = df['Close'].rolling(window=5).mean()\n",
    "    # Calculate medium-term trendline\n",
    "    df['Medium_Trendline'] = df['Close'].rolling(window=20).mean()\n",
    "    # Calculate long-term trendline\n",
    "    df['Long_Trendline'] = df['Close'].rolling(window=50).mean()\n",
    "    # Perform analysis using trendlines\n",
    "    # Example: Identify bullish signal when short-term trendline crosses above medium-term trendline\n",
    "    df['Bullish_Signal'] = (df['Short_Trendline'] > df['Medium_Trendline']) & (df['Short_Trendline'].shift() < df['Medium_Trendline'].shift())\n",
    "    # Example: Identify bearish signal when short-term trendline crosses below medium-term trendline\n",
    "    df['Bearish_Signal'] = (df['Short_Trendline'] < df['Medium_Trendline']) & (df['Short_Trendline'].shift() > df['Medium_Trendline'].shift())\n",
    "    # Return the modified DataFrame\n",
    "    return df\n",
    "df3 = multiple_timeframe_analysis(df2)\n",
    "df3"
   ],
   "metadata": {
    "collapsed": false,
    "pycharm": {
     "name": "#%%\n"
    }
   }
  },
  {
   "cell_type": "code",
   "execution_count": 21,
   "outputs": [
    {
     "name": "stdout",
     "output_type": "stream",
     "text": [
      "149\n",
      "4908\n"
     ]
    }
   ],
   "source": [
    "a = df[df['Bearish_Signal'] == True].index\n",
    "b = df[df['Bearish_Signal'] == False].index\n",
    "print(len(a))\n",
    "print(len(b))\n"
   ],
   "metadata": {
    "collapsed": false,
    "pycharm": {
     "name": "#%%\n"
    }
   }
  }
 ],
 "metadata": {
  "kernelspec": {
   "display_name": "Python 3",
   "language": "python",
   "name": "python3"
  },
  "language_info": {
   "codemirror_mode": {
    "name": "ipython",
    "version": 2
   },
   "file_extension": ".py",
   "mimetype": "text/x-python",
   "name": "python",
   "nbconvert_exporter": "python",
   "pygments_lexer": "ipython2",
   "version": "2.7.6"
  }
 },
 "nbformat": 4,
 "nbformat_minor": 0
}