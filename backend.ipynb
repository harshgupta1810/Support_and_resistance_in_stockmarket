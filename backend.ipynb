{
 "cells": [
  {
   "cell_type": "code",
   "execution_count": 44,
   "metadata": {
    "collapsed": true,
    "pycharm": {
     "name": "#%%\n"
    }
   },
   "outputs": [],
   "source": [
    "import pandas as pd\n",
    "import numpy as np\n",
    "import yfinance\n",
    "from mplfinance.original_flavor import candlestick_ohlc\n",
    "import matplotlib.dates as mpl_dates\n",
    "import matplotlib.pyplot as plt\n",
    "from datetime import date\n",
    "import matplotlib\n",
    "matplotlib.use('TkAgg')\n",
    "plt.rcParams['figure.figsize'] = [12, 7]\n",
    "plt.rc('font', size=14)"
   ]
  },
  {
   "cell_type": "code",
   "execution_count": 43,
   "outputs": [],
   "source": [
    "stocksymbols = 'LT.NS'\n",
    "ticker = yfinance.Ticker(stocksymbols)\n",
    "end = date.today()\n",
    "start = \"2023-01-01\"\n",
    "df = ticker.history(interval=\"1d\",start=start,end=end)"
   ],
   "metadata": {
    "collapsed": false,
    "pycharm": {
     "name": "#%%\n"
    }
   }
  },
  {
   "cell_type": "code",
   "execution_count": 45,
   "outputs": [],
   "source": [
    "df['Date'] = pd.to_datetime(df.index)\n",
    "df['Date'] = df['Date'].apply(mpl_dates.date2num)\n",
    "df.index = pd.to_datetime(df.index, errors='coerce')\n",
    "df.index = df.index.strftime('%d-%m-%y')\n",
    "df = df.loc[:,['Date', 'Open', 'High', 'Low', 'Close']]"
   ],
   "metadata": {
    "collapsed": false,
    "pycharm": {
     "name": "#%%\n"
    }
   }
  },
  {
   "cell_type": "code",
   "execution_count": 46,
   "outputs": [
    {
     "data": {
      "text/plain": "                  Date         Open         High          Low        Close\nDate                                                                      \n02-01-23  19358.770833  2092.899902  2097.600098  2075.050049  2089.449951\n03-01-23  19359.770833  2088.000000  2096.800049  2067.949951  2088.949951\n04-01-23  19360.770833  2090.949951  2101.449951  2058.000000  2070.550049\n05-01-23  19361.770833  2080.000000  2099.199951  2068.500000  2087.350098\n06-01-23  19362.770833  2090.199951  2121.699951  2071.850098  2086.550049\n...                ...          ...          ...          ...          ...\n28-04-23  19474.770833  2312.300049  2369.000000  2312.300049  2364.399902\n02-05-23  19478.770833  2373.199951  2416.350098  2373.199951  2384.449951\n03-05-23  19479.770833  2384.100098  2390.000000  2348.500000  2356.300049\n04-05-23  19480.770833  2361.800049  2381.649902  2342.850098  2356.899902\n05-05-23  19481.770833  2357.000000  2406.949951  2357.000000  2377.500000\n\n[83 rows x 5 columns]",
      "text/html": "<div>\n<style scoped>\n    .dataframe tbody tr th:only-of-type {\n        vertical-align: middle;\n    }\n\n    .dataframe tbody tr th {\n        vertical-align: top;\n    }\n\n    .dataframe thead th {\n        text-align: right;\n    }\n</style>\n<table border=\"1\" class=\"dataframe\">\n  <thead>\n    <tr style=\"text-align: right;\">\n      <th></th>\n      <th>Date</th>\n      <th>Open</th>\n      <th>High</th>\n      <th>Low</th>\n      <th>Close</th>\n    </tr>\n    <tr>\n      <th>Date</th>\n      <th></th>\n      <th></th>\n      <th></th>\n      <th></th>\n      <th></th>\n    </tr>\n  </thead>\n  <tbody>\n    <tr>\n      <th>02-01-23</th>\n      <td>19358.770833</td>\n      <td>2092.899902</td>\n      <td>2097.600098</td>\n      <td>2075.050049</td>\n      <td>2089.449951</td>\n    </tr>\n    <tr>\n      <th>03-01-23</th>\n      <td>19359.770833</td>\n      <td>2088.000000</td>\n      <td>2096.800049</td>\n      <td>2067.949951</td>\n      <td>2088.949951</td>\n    </tr>\n    <tr>\n      <th>04-01-23</th>\n      <td>19360.770833</td>\n      <td>2090.949951</td>\n      <td>2101.449951</td>\n      <td>2058.000000</td>\n      <td>2070.550049</td>\n    </tr>\n    <tr>\n      <th>05-01-23</th>\n      <td>19361.770833</td>\n      <td>2080.000000</td>\n      <td>2099.199951</td>\n      <td>2068.500000</td>\n      <td>2087.350098</td>\n    </tr>\n    <tr>\n      <th>06-01-23</th>\n      <td>19362.770833</td>\n      <td>2090.199951</td>\n      <td>2121.699951</td>\n      <td>2071.850098</td>\n      <td>2086.550049</td>\n    </tr>\n    <tr>\n      <th>...</th>\n      <td>...</td>\n      <td>...</td>\n      <td>...</td>\n      <td>...</td>\n      <td>...</td>\n    </tr>\n    <tr>\n      <th>28-04-23</th>\n      <td>19474.770833</td>\n      <td>2312.300049</td>\n      <td>2369.000000</td>\n      <td>2312.300049</td>\n      <td>2364.399902</td>\n    </tr>\n    <tr>\n      <th>02-05-23</th>\n      <td>19478.770833</td>\n      <td>2373.199951</td>\n      <td>2416.350098</td>\n      <td>2373.199951</td>\n      <td>2384.449951</td>\n    </tr>\n    <tr>\n      <th>03-05-23</th>\n      <td>19479.770833</td>\n      <td>2384.100098</td>\n      <td>2390.000000</td>\n      <td>2348.500000</td>\n      <td>2356.300049</td>\n    </tr>\n    <tr>\n      <th>04-05-23</th>\n      <td>19480.770833</td>\n      <td>2361.800049</td>\n      <td>2381.649902</td>\n      <td>2342.850098</td>\n      <td>2356.899902</td>\n    </tr>\n    <tr>\n      <th>05-05-23</th>\n      <td>19481.770833</td>\n      <td>2357.000000</td>\n      <td>2406.949951</td>\n      <td>2357.000000</td>\n      <td>2377.500000</td>\n    </tr>\n  </tbody>\n</table>\n<p>83 rows × 5 columns</p>\n</div>"
     },
     "execution_count": 46,
     "metadata": {},
     "output_type": "execute_result"
    }
   ],
   "source": [
    "df"
   ],
   "metadata": {
    "collapsed": false,
    "pycharm": {
     "name": "#%%\n"
    }
   }
  },
  {
   "cell_type": "code",
   "execution_count": 47,
   "outputs": [],
   "source": [
    "def isSupport(df,i):\n",
    "  support = df['Low'][i] < df['Low'][i-1]  and df['Low'][i] < df['Low'][i+1] \\\n",
    "  and df['Low'][i+1] < df['Low'][i+2] and df['Low'][i-1] < df['Low'][i-2]\n",
    "\n",
    "  return support\n",
    "\n",
    "def isResistance(df,i):\n",
    "  resistance = df['High'][i] > df['High'][i-1]  and df['High'][i] > df['High'][i+1] \\\n",
    "  and df['High'][i+1] > df['High'][i+2] and df['High'][i-1] > df['High'][i-2]\n",
    "\n",
    "  return resistance"
   ],
   "metadata": {
    "collapsed": false,
    "pycharm": {
     "name": "#%%\n"
    }
   }
  },
  {
   "cell_type": "code",
   "execution_count": 48,
   "outputs": [],
   "source": [
    "levels = []\n",
    "for i in range(2,df.shape[0]-2):\n",
    "  if isSupport(df,i):\n",
    "    levels.append((i,df['Low'][i]))\n",
    "  elif isResistance(df,i):\n",
    "    levels.append((i,df['High'][i]))\n",
    "levels"
   ],
   "metadata": {
    "collapsed": false,
    "pycharm": {
     "name": "#%%\n"
    }
   }
  },
  {
   "cell_type": "code",
   "execution_count": 49,
   "outputs": [],
   "source": [
    "def plot_all():\n",
    "  fig, ax = plt.subplots()\n",
    "\n",
    "  candlestick_ohlc(ax,df.values,width=0.6, \\\n",
    "                   colorup='green', colordown='red', alpha=0.8)\n",
    "\n",
    "  date_format = mpl_dates.DateFormatter('%d %b %Y')\n",
    "  ax.xaxis.set_major_formatter(date_format)\n",
    "  fig.autofmt_xdate()\n",
    "\n",
    "  fig.tight_layout()\n",
    "\n",
    "  for level in levels:\n",
    "    plt.hlines(level[1],xmin=df['Date'][level[0]],\\\n",
    "               xmax=max(df['Date']),colors='blue')\n",
    "  fig.show()"
   ],
   "metadata": {
    "collapsed": false,
    "pycharm": {
     "name": "#%%\n"
    }
   }
  },
  {
   "cell_type": "code",
   "execution_count": 50,
   "outputs": [],
   "source": [
    "plot_all()"
   ],
   "metadata": {
    "collapsed": false,
    "pycharm": {
     "name": "#%%\n"
    }
   }
  },
  {
   "cell_type": "code",
   "execution_count": 51,
   "outputs": [],
   "source": [
    "s =  np.mean(df['High'] - df['Low'])"
   ],
   "metadata": {
    "collapsed": false,
    "pycharm": {
     "name": "#%%\n"
    }
   }
  },
  {
   "cell_type": "code",
   "execution_count": 52,
   "outputs": [],
   "source": [
    "def isFarFromLevel(l):\n",
    "  return np.sum([abs(l-x) < s  for x in levels]) == 0"
   ],
   "metadata": {
    "collapsed": false,
    "pycharm": {
     "name": "#%%\n"
    }
   }
  },
  {
   "cell_type": "code",
   "execution_count": 53,
   "outputs": [],
   "source": [
    "levels = []\n",
    "for i in range(2,df.shape[0]-2):\n",
    "  if isSupport(df,i):\n",
    "    l = df['Low'][i]\n",
    "\n",
    "    if isFarFromLevel(l):\n",
    "      levels.append((i,l))\n",
    "\n",
    "  elif isResistance(df,i):\n",
    "    l = df['High'][i]\n",
    "\n",
    "    if isFarFromLevel(l):\n",
    "      levels.append((i,l))"
   ],
   "metadata": {
    "collapsed": false,
    "pycharm": {
     "name": "#%%\n"
    }
   }
  },
  {
   "cell_type": "code",
   "execution_count": 54,
   "outputs": [
    {
     "name": "stdout",
     "output_type": "stream",
     "text": [
      "[2058.0, 2297.65, 2199.0, 2107.0, 2246.25, 2416.35]\n"
     ]
    }
   ],
   "source": [
    "levels = [[round(x, 2) for x in tup] for tup in levels]\n",
    "second_values = []\n",
    "for inner_list in levels:\n",
    "    second_value = inner_list[1]\n",
    "    second_values.append(second_value)\n",
    "\n",
    "print(second_values)"
   ],
   "metadata": {
    "collapsed": false,
    "pycharm": {
     "name": "#%%\n"
    }
   }
  },
  {
   "cell_type": "code",
   "execution_count": 55,
   "outputs": [],
   "source": [
    "plot_all()"
   ],
   "metadata": {
    "collapsed": false,
    "pycharm": {
     "name": "#%%\n"
    }
   }
  }
 ],
 "metadata": {
  "kernelspec": {
   "display_name": "Python 3",
   "language": "python",
   "name": "python3"
  },
  "language_info": {
   "codemirror_mode": {
    "name": "ipython",
    "version": 2
   },
   "file_extension": ".py",
   "mimetype": "text/x-python",
   "name": "python",
   "nbconvert_exporter": "python",
   "pygments_lexer": "ipython2",
   "version": "2.7.6"
  }
 },
 "nbformat": 4,
 "nbformat_minor": 0
}